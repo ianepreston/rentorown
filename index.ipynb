{
 "cells": [
  {
   "cell_type": "markdown",
   "metadata": {},
   "source": [
    "# BIG WARNING\n",
    "\n",
    "I'm still developing the interface for this, just trying to get Heroku and docker containers for it working before I clean things up. Do not use yet"
   ]
  },
  {
   "cell_type": "code",
   "execution_count": 1,
   "metadata": {},
   "outputs": [],
   "source": [
    "%load_ext autoreload\n",
    "%autoreload 2\n",
    "import locale\n",
    "import pandas as pd\n",
    "import numpy as np\n",
    "from mortgage.rentorown import RentOrOwn\n",
    "import ipywidgets as widgets\n",
    "from IPython.display import display\n",
    "locale.setlocale(locale.LC_ALL, '');\n",
    "pd.options.display.max_rows = 999"
   ]
  },
  {
   "cell_type": "markdown",
   "metadata": {},
   "source": [
    "Set the rental characteristics"
   ]
  },
  {
   "cell_type": "code",
   "execution_count": 2,
   "metadata": {},
   "outputs": [
    {
     "data": {
      "application/vnd.jupyter.widget-view+json": {
       "model_id": "c8f5267b5700472dad2c219089d95acc",
       "version_major": 2,
       "version_minor": 0
      },
      "text/plain": [
       "IntText(value=1000, description='Monthly Rent:', style=DescriptionStyle(description_width='initial'))"
      ]
     },
     "metadata": {},
     "output_type": "display_data"
    }
   ],
   "source": [
    "style = {'description_width': 'initial'}\n",
    "rent_box = widgets.IntText(\n",
    "    value=1000,\n",
    "    description=\"Monthly Rent:\",\n",
    "    disabled=False,\n",
    "    style=style\n",
    ")\n",
    "display(rent_box)"
   ]
  },
  {
   "cell_type": "markdown",
   "metadata": {},
   "source": [
    "Set the ownership characteristics"
   ]
  },
  {
   "cell_type": "code",
   "execution_count": 3,
   "metadata": {},
   "outputs": [
    {
     "data": {
      "application/vnd.jupyter.widget-view+json": {
       "model_id": "e8bc12eb939440d8b5138dcf626158a9",
       "version_major": 2,
       "version_minor": 0
      },
      "text/plain": [
       "IntText(value=100000, description='House purchase price: ', style=DescriptionStyle(description_width='initial'…"
      ]
     },
     "metadata": {},
     "output_type": "display_data"
    }
   ],
   "source": [
    "house_price_box = widgets.IntText(\n",
    "    value=100_000,\n",
    "    description=\"House purchase price: \",\n",
    "    disabled=False,\n",
    "    style=style\n",
    ")\n",
    "display(house_price_box)"
   ]
  },
  {
   "cell_type": "markdown",
   "metadata": {},
   "source": [
    "Set the down payment, either use the slider to select a percentage, or directly input a dollar amount"
   ]
  },
  {
   "cell_type": "code",
   "execution_count": 4,
   "metadata": {},
   "outputs": [
    {
     "data": {
      "application/vnd.jupyter.widget-view+json": {
       "model_id": "e8bcbb955a774c8982e156a64bf7ed75",
       "version_major": 2,
       "version_minor": 0
      },
      "text/plain": [
       "FloatSlider(value=0.1, continuous_update=False, description='% down: ', max=1.0, readout_format='.0%', step=0.…"
      ]
     },
     "metadata": {},
     "output_type": "display_data"
    },
    {
     "data": {
      "application/vnd.jupyter.widget-view+json": {
       "model_id": "5dbb5b731b304390a44aaa0fec367b15",
       "version_major": 2,
       "version_minor": 0
      },
      "text/plain": [
       "Output()"
      ]
     },
     "metadata": {},
     "output_type": "display_data"
    }
   ],
   "source": [
    "\n",
    "down_payment_pct_box = widgets.FloatSlider(\n",
    "    value=0.1,\n",
    "    min=0,\n",
    "    max=1.0,\n",
    "    step=0.01,\n",
    "    description=\"% down: \",\n",
    "    disabled=False,\n",
    "    continuous_update=False,\n",
    "    orientation=\"horizontal\",\n",
    "    readout=True,\n",
    "    readout_format=\".0%\",\n",
    "    style=style\n",
    ")\n",
    "dp_dollar = widgets.Output()\n",
    "display(down_payment_pct_box, dp_dollar)\n",
    "def down_payment_event(btn_object):\n",
    "    with dp_dollar:\n",
    "        dp_dollar.clear_output()\n",
    "        print(f\"Down payment dollars: ${house_price_box.value * btn_object['new']:n}\")\n",
    "\n",
    "\n",
    "down_payment_pct_box.observe(down_payment_event, names=\"value\")"
   ]
  },
  {
   "cell_type": "code",
   "execution_count": 5,
   "metadata": {},
   "outputs": [
    {
     "data": {
      "application/vnd.jupyter.widget-view+json": {
       "model_id": "a84633cd085a425198939aef09d81d96",
       "version_major": 2,
       "version_minor": 0
      },
      "text/plain": [
       "IntText(value=20000, description='Down payment in dollars', style=DescriptionStyle(description_width='initial'…"
      ]
     },
     "metadata": {},
     "output_type": "display_data"
    }
   ],
   "source": [
    "down_payment_box = widgets.IntText(\n",
    "    value=20_000,\n",
    "    description=\"Down payment in dollars\",\n",
    "    style=style\n",
    ")\n",
    "def dp_slider_change(change):\n",
    "    down_payment_box.value = house_price_box.value * change.new\n",
    "\n",
    "down_payment_pct_box.observe(dp_slider_change, names='value')\n",
    "display(down_payment_box)"
   ]
  },
  {
   "cell_type": "code",
   "execution_count": 6,
   "metadata": {},
   "outputs": [
    {
     "data": {
      "application/vnd.jupyter.widget-view+json": {
       "model_id": "d487be36a5c44ae280ce8f8abfb3cee1",
       "version_major": 2,
       "version_minor": 0
      },
      "text/plain": [
       "IntSlider(value=25, continuous_update=False, description='Years of amortization: ', max=30, min=1, style=Slide…"
      ]
     },
     "metadata": {},
     "output_type": "display_data"
    }
   ],
   "source": [
    "mortgage_amortization_slider = widgets.IntSlider(\n",
    "    value=25,\n",
    "    min=1,\n",
    "    max=30,\n",
    "    step=1,\n",
    "    description=\"Years of amortization: \",\n",
    "    disabled=False,\n",
    "    continuous_update=False,\n",
    "    orientation=\"horizontal\",\n",
    "    readout=True,\n",
    "    readout_format=\"d\",\n",
    "    style=style\n",
    ")\n",
    "display(mortgage_amortization_slider)"
   ]
  },
  {
   "cell_type": "code",
   "execution_count": 7,
   "metadata": {},
   "outputs": [
    {
     "data": {
      "application/vnd.jupyter.widget-view+json": {
       "model_id": "4a4c646ca65d4cb8990b525f44f9ea26",
       "version_major": 2,
       "version_minor": 0
      },
      "text/plain": [
       "FloatSlider(value=0.03, continuous_update=False, description='Mortgage APR rate: ', max=0.3, readout_format='.…"
      ]
     },
     "metadata": {},
     "output_type": "display_data"
    }
   ],
   "source": [
    "mortgage_apr_slider = widgets.FloatSlider(\n",
    "    value=0.03,\n",
    "    min=0.0,\n",
    "    max=0.3,\n",
    "    step=0.001,\n",
    "    description=\"Mortgage APR rate: \",\n",
    "    disabled=False,\n",
    "    continuous_update=False,\n",
    "    orientation=\"horizontal\",\n",
    "    readout=True,\n",
    "    readout_format=\".1%\"\n",
    ")\n",
    "display(mortgage_apr_slider)"
   ]
  },
  {
   "cell_type": "code",
   "execution_count": 8,
   "metadata": {
    "scrolled": false
   },
   "outputs": [
    {
     "data": {
      "application/vnd.jupyter.widget-view+json": {
       "model_id": "c59902f3a91e42fcb2ea78d479a6a1ac",
       "version_major": 2,
       "version_minor": 0
      },
      "text/plain": [
       "Button(description='Run Simulation', style=ButtonStyle())"
      ]
     },
     "metadata": {},
     "output_type": "display_data"
    },
    {
     "data": {
      "application/vnd.jupyter.widget-view+json": {
       "model_id": "20966128898e45369450d4614d6b415c",
       "version_major": 2,
       "version_minor": 0
      },
      "text/plain": [
       "Output()"
      ]
     },
     "metadata": {},
     "output_type": "display_data"
    }
   ],
   "source": [
    "calc_button = widgets.Button(description=\"Run Simulation\")\n",
    "out_widget = widgets.Output()\n",
    "display(calc_button)\n",
    "display(out_widget)\n",
    "def calculate_rent_or_own(btn_object):\n",
    "    with out_widget:\n",
    "        out_widget.clear_output()\n",
    "        mtg = RentOrOwn(\n",
    "            monthly_rent=rent_box.value,\n",
    "            house_price=house_price_box.value,\n",
    "            down_payment=down_payment_box.value,\n",
    "            mortgage_amortization_years=mortgage_amortization_slider.value,\n",
    "            mortgage_apr=mortgage_apr_slider.value,\n",
    "            housing_asset_dict={\"dist\": np.random.normal, \"dist_args\": {\"loc\": 0.004, \"scale\": 0.0136}},\n",
    "            investment_asset_dict={\"dist\": np.random.normal, \"dist_args\": {\"loc\": 0.00510, \"scale\": 0.0266}},\n",
    "            number_of_simulations=1_000,\n",
    "            additional_purchase_costs=0,\n",
    "            additional_monthly_costs=50,\n",
    "            mortgage_payment_schedule=\"monthly\",\n",
    "            mortgage_additional_payments=0,\n",
    "            annual_inflation=0.02,\n",
    "            monthly_property_tax_rate=None,\n",
    "            maintenance_cost=0.01\n",
    "        )\n",
    "        mtg.histogram()\n",
    "        mtg.median_returns_plot()\n",
    "        display(mtg.mortgage_df)\n",
    "\n",
    "calc_button.on_click(calculate_rent_or_own)\n"
   ]
  },
  {
   "cell_type": "code",
   "execution_count": null,
   "metadata": {},
   "outputs": [],
   "source": []
  }
 ],
 "metadata": {
  "kernelspec": {
   "display_name": "Python 3",
   "language": "python",
   "name": "python3"
  },
  "language_info": {
   "codemirror_mode": {
    "name": "ipython",
    "version": 3
   },
   "file_extension": ".py",
   "mimetype": "text/x-python",
   "name": "python",
   "nbconvert_exporter": "python",
   "pygments_lexer": "ipython3",
   "version": "3.7.4"
  }
 },
 "nbformat": 4,
 "nbformat_minor": 2
}
